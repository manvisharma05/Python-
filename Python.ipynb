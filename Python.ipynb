{
  "nbformat": 4,
  "nbformat_minor": 0,
  "metadata": {
    "colab": {
      "provenance": []
    },
    "kernelspec": {
      "name": "python3",
      "display_name": "Python 3"
    },
    "language_info": {
      "name": "python"
    }
  },
  "cells": [
    {
      "cell_type": "markdown",
      "source": [
        "#Python(Theory)"
      ],
      "metadata": {
        "id": "Q24jEAUAFWVp"
      }
    },
    {
      "cell_type": "markdown",
      "source": [
        "Q1. What is Python, and why is it popular?\n",
        "   - Python is a high-level, interpreted programming language known for its simplicity and readability. It is popular because:\n",
        "     > Easy to learn and write.\n",
        "\n",
        "     > Large standard library.\n",
        "\n",
        "     > Supports multiple programming paradigms (OOP, functional, procedural).\n",
        "\n",
        "     > Widely used in web development, data science, AI, and automation.\n",
        "Q2. What is an interpreter in Python?\n",
        "   - The interpreter is a program that executes Python code line by line. Unlike compilers, it doesn’t translate the entire code at once, which makes debugging easier.\n",
        "\n",
        "Q3. What are pre-defined keywords in Python?\n",
        "  - Keywords are reserved words in Python that have special meanings (e.g., if, for, while, class). They cannot be used as variable names.\n",
        "\n",
        "Q4.  Can keywords be used as variable names?\n",
        "   - No, Python keywords cannot be used as variable names because they have predefined meanings in the language.\n",
        "\n",
        "Q5. What is mutability in Python?\n",
        "   - Mutability refers to whether an object’s value can be changed after creation.\n",
        "\n",
        "     > Mutable objects: Can be modified (e.g., lists, dictionaries).\n",
        "\n",
        "     > Immutable objects: Cannot be modified (e.g., tuples, strings).\n",
        "\n",
        "Q6. Why are lists mutable, but tuples are immutable?\n",
        "   - Lists are designed for dynamic data storage, so elements can be modified.\n",
        "\n",
        "   - Tuples are fixed and used for data integrity, so they cannot be changed.\n",
        "\n",
        "Q.7 What is the difference between == and is operators in Python?\n",
        "   - == checks value equality (whether two objects have the same value).\n",
        "\n",
        "   - is checks identity (whether two objects refer to the same memory location).\n",
        "\n",
        "Q8. What are logical operators in Python?\n",
        "   - Logical operators are used to combine conditional statements and evaluate them to return a Boolean value (True or False). They are crucial for controlling program flow and making decisions based on multiple conditions.\n",
        "\n",
        "Q9. What is type casting in Python?\n",
        "   - Type casting is the process of converting one data type into another.\n",
        "\n",
        "Q10. What is the difference between implicit and explicit type casting?\n",
        "   - Implicit casting: Done automatically by Python (e.g., int to float).\n",
        "\n",
        "   - Explicit casting: Done manually using functions like int(), float(), str().\n",
        "\n",
        "Q11. What is the purpose of conditional statements in Python?\n",
        "   - They allow decision-making in a program. Code executes differently depending on conditions.\n",
        "\n",
        "Q12. How does the elif statement work?\n",
        "   - elif means \"else if\". It checks multiple conditions one by one until one is true.\n",
        "\n",
        "Q13. What is the difference between for and while loops?\n",
        "   - For loop: Used when the number of iterations is known.\n",
        "\n",
        "   - While loop: Used when iterations depend on a condition.\n",
        "\n",
        "Q14. Describe a scenario where a while loop is more suitable than a for loop.\n",
        "   - When we don’t know how many times to loop, e.g., keep asking for a password until the user enters the correct one.\n",
        "   "
      ],
      "metadata": {
        "id": "_ICyg6mOGbw5"
      }
    },
    {
      "cell_type": "markdown",
      "source": [
        "#Python(Practical)"
      ],
      "metadata": {
        "id": "TQOUaxR7NoXn"
      }
    },
    {
      "cell_type": "code",
      "source": [
        "#Q1. Print \"Hello, World!\"\n",
        "...\n",
        "print(\"Hello, World!\")\n",
        "..."
      ],
      "metadata": {
        "colab": {
          "base_uri": "https://localhost:8080/"
        },
        "id": "FGe6dlGQNsUc",
        "outputId": "0db6a761-1d51-403a-dce4-bae7f032171c"
      },
      "execution_count": null,
      "outputs": [
        {
          "output_type": "stream",
          "name": "stdout",
          "text": [
            "Hello, World!\n"
          ]
        }
      ]
    },
    {
      "cell_type": "code",
      "source": [
        "#Q2. Display your name and age.\n",
        "...\n",
        "name = \"Manvi\"\n",
        "age = \"23\"\n",
        "print(\"My name is\", name, \"and I am\", age, \"years old.\")\n",
        "..."
      ],
      "metadata": {
        "colab": {
          "base_uri": "https://localhost:8080/"
        },
        "id": "PGefVInhRBDs",
        "outputId": "4716469a-439d-4147-ab8f-ab325d03f6e0"
      },
      "execution_count": null,
      "outputs": [
        {
          "output_type": "stream",
          "name": "stdout",
          "text": [
            "My name is Manvi and I am 23 years old.\n"
          ]
        }
      ]
    },
    {
      "cell_type": "code",
      "source": [
        "#Q3. Print all predefined keywords in Python.\n",
        "...\n",
        "import keyword\n",
        "print(\"Python Keywords are:\")\n",
        "print(keyword.kwlist)\n",
        "..."
      ],
      "metadata": {
        "colab": {
          "base_uri": "https://localhost:8080/"
        },
        "id": "sT_-zBvYSucV",
        "outputId": "4ed69546-ce10-4b54-cb64-949556698069"
      },
      "execution_count": null,
      "outputs": [
        {
          "output_type": "stream",
          "name": "stdout",
          "text": [
            "Python Keywords are:\n",
            "['False', 'None', 'True', 'and', 'as', 'assert', 'async', 'await', 'break', 'class', 'continue', 'def', 'del', 'elif', 'else', 'except', 'finally', 'for', 'from', 'global', 'if', 'import', 'in', 'is', 'lambda', 'nonlocal', 'not', 'or', 'pass', 'raise', 'return', 'try', 'while', 'with', 'yield']\n"
          ]
        }
      ]
    },
    {
      "cell_type": "code",
      "source": [
        "#Q4. Write a program that checks if a given word is a Python keyword.\n",
        "\n",
        "...\n",
        "import keyword\n",
        "\n",
        "word = input(\"Enter a word: \")\n",
        "if keyword.iskeyword(word):\n",
        "    print(f\"'{word}' is a Python keyword.\")\n",
        "else:\n",
        "    print(f\"'{word}' is not a Python keyword.\")\n",
        "..."
      ],
      "metadata": {
        "id": "RdYkSlCXTIJG",
        "colab": {
          "base_uri": "https://localhost:8080/"
        },
        "outputId": "d2fee8fb-3f38-4b01-a200-ce2432cab539"
      },
      "execution_count": null,
      "outputs": [
        {
          "output_type": "stream",
          "name": "stdout",
          "text": [
            "Enter a word: \n",
            "'' is not a Python keyword.\n"
          ]
        }
      ]
    },
    {
      "cell_type": "code",
      "source": [
        "#Q5. Create a list and tuple in Python, and demonstrate how attempting to change an element works differently for each.\n",
        "\n",
        "# List (Mutable)\n",
        "...\n",
        "my_list = [1, 2, 3]\n",
        "print(\"Original list:\", my_list)\n",
        "my_list[0] = 100\n",
        "print(\"Modified list:\", my_list)\n",
        "...\n",
        "# Tuple (Immutable)\n",
        "...\n",
        "my_tuple = (1, 2, 3)\n",
        "print(\"Original tuple:\", my_tuple)\n",
        "..."
      ],
      "metadata": {
        "id": "ZXBu_3SjUoTj",
        "colab": {
          "base_uri": "https://localhost:8080/"
        },
        "outputId": "8e27964d-a60a-43eb-8bcc-511090512fbb"
      },
      "execution_count": null,
      "outputs": [
        {
          "output_type": "stream",
          "name": "stdout",
          "text": [
            "Original list: [1, 2, 3]\n",
            "Modified list: [100, 2, 3]\n",
            "Original tuple: (1, 2, 3)\n"
          ]
        },
        {
          "output_type": "execute_result",
          "data": {
            "text/plain": [
              "Ellipsis"
            ]
          },
          "metadata": {},
          "execution_count": 11
        }
      ]
    },
    {
      "cell_type": "code",
      "source": [
        "#Q6. Function with Mutable & Immutable arguments\n",
        "...\n",
        "def modify_data(num, my_list):\n",
        "    num += 10\n",
        "    my_list.append(100)\n",
        "    print(\"Inside function: num =\", num, \"list =\", my_list)\n",
        "\n",
        "x = 5\n",
        "lst = [1, 2, 3]\n",
        "\n",
        "modify_data(x, lst)\n",
        "print(\"Outside function: num =\", x, \"list =\", lst)\n",
        "..."
      ],
      "metadata": {
        "id": "bpt0ZRjrX4B1",
        "colab": {
          "base_uri": "https://localhost:8080/"
        },
        "outputId": "582d9d59-d8d3-4c7c-ef0c-b81c9985dd64"
      },
      "execution_count": null,
      "outputs": [
        {
          "output_type": "stream",
          "name": "stdout",
          "text": [
            "Inside function: num = 15 list = [1, 2, 3, 100]\n",
            "Outside function: num = 5 list = [1, 2, 3, 100]\n"
          ]
        }
      ]
    },
    {
      "cell_type": "code",
      "source": [
        "#Q7. Basic Arithmetic Operations\n",
        "...\n",
        "a = int(input(\"Enter first number: \"))\n",
        "b = int(input(\"Enter second number: \"))\n",
        "\n",
        "print(\"Addition:\", a + b)\n",
        "print(\"Subtraction:\", a - b)\n",
        "print(\"Multiplication:\", a * b)\n",
        "print(\"Division:\", a / b)\n",
        "..."
      ],
      "metadata": {
        "id": "QQNGSXUzZD-z",
        "colab": {
          "base_uri": "https://localhost:8080/"
        },
        "outputId": "efaf1545-fb2c-426f-c34d-da945cd1da3b"
      },
      "execution_count": null,
      "outputs": [
        {
          "output_type": "stream",
          "name": "stdout",
          "text": [
            "Enter first number: 5\n",
            "Enter second number: 4\n",
            "Addition: 9\n",
            "Subtraction: 1\n",
            "Multiplication: 20\n",
            "Division: 1.25\n"
          ]
        }
      ]
    },
    {
      "cell_type": "code",
      "source": [
        "#Q8. Logical Operators Example\n",
        "...\n",
        "x = True\n",
        "y = False\n",
        "\n",
        "print(\"x and y:\", x and y)\n",
        "print(\"x or y:\", x or y)\n",
        "print(\"not x:\", not x)\n",
        "..."
      ],
      "metadata": {
        "colab": {
          "base_uri": "https://localhost:8080/"
        },
        "id": "1ceGgHUtcRqT",
        "outputId": "452e17b0-c4e2-4f6f-92da-18abcdf780d5"
      },
      "execution_count": null,
      "outputs": [
        {
          "output_type": "stream",
          "name": "stdout",
          "text": [
            "x and y: False\n",
            "x or y: True\n",
            "not x: False\n"
          ]
        }
      ]
    },
    {
      "cell_type": "code",
      "source": [
        "#Q9. Convert User Input to Different Types\n",
        "...\n",
        "data = input(\"Enter a value: \")\n",
        "\n",
        "print(\"As Integer:\", int(data))\n",
        "print(\"As Float:\", float(data))\n",
        "print(\"As Boolean:\", bool(data))\n",
        "...\n"
      ],
      "metadata": {
        "colab": {
          "base_uri": "https://localhost:8080/"
        },
        "id": "VXpr27a2dPVd",
        "outputId": "471a886c-4253-4cf2-b82e-e4b720a57b30"
      },
      "execution_count": null,
      "outputs": [
        {
          "output_type": "stream",
          "name": "stdout",
          "text": [
            "Enter a value: 24\n",
            "As Integer: 24\n",
            "As Float: 24.0\n",
            "As Boolean: True\n"
          ]
        }
      ]
    },
    {
      "cell_type": "code",
      "source": [
        "#Q10. Type Casting with List Elements\n",
        "...\n",
        "my_list = [\"10\", \"20\", \"30\"]\n",
        "print(\"Original list:\", my_list)\n",
        "\n",
        "int_list = [int(i) for i in my_list]\n",
        "print(\"After type casting:\", int_list)\n",
        "..."
      ],
      "metadata": {
        "id": "srBeoo6sdcsA"
      },
      "execution_count": null,
      "outputs": []
    },
    {
      "cell_type": "code",
      "source": [
        "#Q11. Check if Number is Positive, Negative, or Zero.\n",
        "...\n",
        "num = int(input(\"Enter a number: \"))\n",
        "\n",
        "if num > 0:\n",
        "    print(\"Positive\")\n",
        "elif num < 0:\n",
        "    print(\"Negative\")\n",
        "else:\n",
        "    print(\"Zero\")\n",
        "..."
      ],
      "metadata": {
        "id": "JKyueEu7du2u"
      },
      "execution_count": null,
      "outputs": []
    },
    {
      "cell_type": "code",
      "source": [
        "#Q12. Print Numbers from 1 to 10 using For Loop.\n",
        "...\n",
        "for i in range(1, 11):\n",
        "    print(i, end=\" \")\n",
        "..."
      ],
      "metadata": {
        "id": "z6q19Ov1d2l0"
      },
      "execution_count": null,
      "outputs": []
    },
    {
      "cell_type": "code",
      "source": [
        "#Q13. Sum of Even Numbers from 1 to 50.\n",
        "...\n",
        "total = 0\n",
        "for i in range(1, 51):\n",
        "    if i % 2 == 0:\n",
        "        total += i\n",
        "print(\"Sum of even numbers between 1 and 50:\", total)\n",
        "..."
      ],
      "metadata": {
        "id": "8phgAJCSeZcj"
      },
      "execution_count": null,
      "outputs": []
    },
    {
      "cell_type": "code",
      "source": [
        "#Q14. Reverse a String using While Loop.\n",
        "...\n",
        "string = input(\"Enter a string: \")\n",
        "reversed_str = \"\"\n",
        "i = len(string) - 1\n",
        "\n",
        "while i >= 0:\n",
        "    reversed_str += string[i]\n",
        "    i -= 1\n",
        "\n",
        "print(\"Reversed string:\", reversed_str)\n",
        "..."
      ],
      "metadata": {
        "id": "1eivCUpjeisN"
      },
      "execution_count": null,
      "outputs": []
    },
    {
      "cell_type": "code",
      "source": [
        "#Q15. Factorial using While Loop.\n",
        "...\n",
        "num = int(input(\"Enter a number: \"))\n",
        "factorial = 1\n",
        "i = 1\n",
        "\n",
        "while i <= num:\n",
        "    factorial *= i\n",
        "    i += 1\n",
        "\n",
        "print(\"Factorial of\", num, \"is\", factorial)\n",
        "..."
      ],
      "metadata": {
        "id": "jKXiOa2fe20Q"
      },
      "execution_count": null,
      "outputs": []
    },
    {
      "cell_type": "code",
      "source": [],
      "metadata": {
        "id": "EcLWKYdKV98r"
      },
      "execution_count": null,
      "outputs": []
    },
    {
      "cell_type": "code",
      "source": [],
      "metadata": {
        "id": "CKPKNVnHV2nd"
      },
      "execution_count": null,
      "outputs": []
    },
    {
      "cell_type": "code",
      "source": [],
      "metadata": {
        "id": "MDZl4DdOVpNU"
      },
      "execution_count": null,
      "outputs": []
    },
    {
      "cell_type": "code",
      "source": [],
      "metadata": {
        "id": "7lK_YKRHUeoN"
      },
      "execution_count": null,
      "outputs": []
    },
    {
      "cell_type": "code",
      "source": [],
      "metadata": {
        "id": "w6hWtleMUXCq"
      },
      "execution_count": null,
      "outputs": []
    },
    {
      "cell_type": "code",
      "source": [],
      "metadata": {
        "id": "Z5n7TyvOTj_z"
      },
      "execution_count": null,
      "outputs": []
    },
    {
      "cell_type": "code",
      "source": [],
      "metadata": {
        "id": "doV-wBG-TeXR"
      },
      "execution_count": null,
      "outputs": []
    },
    {
      "cell_type": "code",
      "source": [],
      "metadata": {
        "id": "BXZfwki9TbsA"
      },
      "execution_count": null,
      "outputs": []
    },
    {
      "cell_type": "code",
      "source": [],
      "metadata": {
        "id": "IO8c_ewzOGtW"
      },
      "execution_count": null,
      "outputs": []
    },
    {
      "cell_type": "code",
      "source": [],
      "metadata": {
        "id": "yEeTi48AGdq1"
      },
      "execution_count": null,
      "outputs": []
    },
    {
      "cell_type": "code",
      "source": [],
      "metadata": {
        "id": "R4tze4EaGJtn"
      },
      "execution_count": null,
      "outputs": []
    },
    {
      "cell_type": "code",
      "source": [],
      "metadata": {
        "id": "Q3DhmO7bGFIM"
      },
      "execution_count": null,
      "outputs": []
    },
    {
      "cell_type": "markdown",
      "source": [],
      "metadata": {
        "id": "Bpy4XxC7Ft8M"
      }
    },
    {
      "cell_type": "code",
      "source": [],
      "metadata": {
        "id": "C4zu6ahEFlyb"
      },
      "execution_count": null,
      "outputs": []
    },
    {
      "cell_type": "code",
      "execution_count": null,
      "metadata": {
        "id": "p0WpKiMPEr4o"
      },
      "outputs": [],
      "source": []
    },
    {
      "cell_type": "markdown",
      "source": [],
      "metadata": {
        "id": "0fAVtMLuFTV8"
      }
    }
  ]
}